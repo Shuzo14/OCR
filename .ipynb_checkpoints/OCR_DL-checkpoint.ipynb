{
 "cells": [
  {
   "cell_type": "code",
   "execution_count": 2,
   "id": "8f29161d",
   "metadata": {
    "scrolled": true
   },
   "outputs": [
    {
     "name": "stdout",
     "output_type": "stream",
     "text": [
      "{'dl_data': '[\"DL No MH-1220050000188 ID 12-42-2005\", \"Valid Till : 11-12-2025 (Non Trans)\", \"(Inv Crg)\", \"\", \"AUTHORISATION TO DRIVE FOLLOWING CLASS\", \"OF VEHICLES THROUGHOUT INDIA\", \"\", \"COV ID\", \"MCWG 12-12-2005\", \"\", \"Badge1 ID\", \"DOB : 12-05-1986 8G Not\", \"lame :POOJAM PALANDE\", \"/DW of: MILIND PALANDE @|\", \"\", \"dd \\\\u00b0S NO . 32/14 A/3, AMBEGAON BK ,\", \"HARTI VIDYAPEETH BACKSIDE ,\", \"Signature/Thumb\", \"\", \"BAU 4990RNC4 Dd Att RLS ry oa\", \"\", \"\"]', 'dl_number': 'DL No MH-1220050000188 ID 12-42-2005', 'dl_dob': '12-05-1986 8G Not'}\n"
     ]
    }
   ],
   "source": [
    "import pytesseract\n",
    "from PIL import Image\n",
    "import cv2\n",
    "import os,argparse\n",
    "import matplotlib.pyplot as plt\n",
    "import re\n",
    "import ftfy\n",
    "import sys\n",
    "import json\n",
    "import io\n",
    "\n",
    "\n",
    "def vehicleRC_read_data(folder_dir):\n",
    "    \n",
    "    # Defining path to tesseract.exe and the image\n",
    "    pytesseract.pytesseract.tesseract_cmd = r\"C:\\Program Files\\Tesseract-OCR\\tesseract.exe\"\n",
    "    \n",
    "    text1 = []\n",
    "    \n",
    "    for images in os.listdir(folder_dir):\n",
    "        if (images.endswith(\".png\") or images.endswith(\".jpg\") or images.endswith(\".jpeg\")):\n",
    "            inputPath = os.path.join(folder_dir, images)\n",
    "            img = Image.open(inputPath)\n",
    "\n",
    "            # Extract text from image\n",
    "            text = pytesseract.image_to_string(img, lang =\"eng\")\n",
    "            text = ftfy.fix_text(text)\n",
    "            text = ftfy.fix_encoding(text)\n",
    "    \n",
    "            # Splitting the lines to sort the text paragraph wise\n",
    "            lines = text.split('\\n')\n",
    "            for lin in lines:\n",
    "                s = lin.strip()\n",
    "                s = s.rstrip()\n",
    "                s = s.lstrip()\n",
    "                text1.append(s)\n",
    "            \n",
    "            lines = text\n",
    "            for x in lines:\n",
    "                _ = x.split()\n",
    "                if ([w for w in _ if re.search(\"(Driving Licence|DL No|DL|Licence No|REGN)$\", w)]):    \n",
    "                    dl_number = x\n",
    "                    #print(dl_number)\n",
    "                    \n",
    "                if ([w for w in _ if re.search(\"(Date of Birth|DOB|D.O.B.)$\", w)]):    \n",
    "                    dl_dob = x.split(':')[1].strip()\n",
    "                    #print(dob)\n",
    "                \n",
    "            data = json.dumps(DL)\n",
    "            \n",
    "            dl_data = {\n",
    "            'dl_data' : data,\n",
    "            'dl_number' : dl_number,\n",
    "            'dl_dob' : dl_dob\n",
    "            }\n",
    "            \n",
    "            return dl_data\n",
    "\n",
    "folder_dir = r\"C:\\Users\\VSK\\Downloads\\OCR\\DL\"\n",
    "DL = vehicleRC_read_data(folder_dir)\n",
    "print(DL)"
   ]
  },
  {
   "cell_type": "code",
   "execution_count": null,
   "id": "955597c7",
   "metadata": {},
   "outputs": [],
   "source": []
  }
 ],
 "metadata": {
  "kernelspec": {
   "display_name": "Python 3 (ipykernel)",
   "language": "python",
   "name": "python3"
  },
  "language_info": {
   "codemirror_mode": {
    "name": "ipython",
    "version": 3
   },
   "file_extension": ".py",
   "mimetype": "text/x-python",
   "name": "python",
   "nbconvert_exporter": "python",
   "pygments_lexer": "ipython3",
   "version": "3.9.12"
  }
 },
 "nbformat": 4,
 "nbformat_minor": 5
}
