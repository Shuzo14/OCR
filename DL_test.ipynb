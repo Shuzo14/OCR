{
 "cells": [
  {
   "cell_type": "code",
   "execution_count": 3,
   "id": "270b751f",
   "metadata": {},
   "outputs": [
    {
     "name": "stdout",
     "output_type": "stream",
     "text": [
      "{\"DL\":[\"DL No MH-1220050000188 ID 12-42-2005\", \"Valid Till : 11-12-2025 (Non Trans)\", \"(Inv Crg)\", \"\", \"AUTHORISATION TO DRIVE FOLLOWING CLASS\", \"OF VEHICLES THROUGHOUT INDIA\", \"\", \"COV ID\", \"MCWG 12-12-2005\", \"\", \"Badge1 ID\", \"DOB : 12-05-1986 8G Not\", \"lame :POOJAM PALANDE\", \"/DW of: MILIND PALANDE @|\", \"\", \"dd \\u00b0S NO . 32/14 A/3, AMBEGAON BK ,\", \"HARTI VIDYAPEETH BACKSIDE ,\", \"Signature/Thumb\", \"\", \"BAU 4990RNC4 Dd Att RLS ry oa\", \"\", \"\"]}\n"
     ]
    }
   ],
   "source": [
    "import pytesseract\n",
    "from PIL import Image\n",
    "import cv2\n",
    "import os,argparse\n",
    "import matplotlib.pyplot as plt\n",
    "import re\n",
    "import ftfy\n",
    "import sys\n",
    "import json\n",
    "import io\n",
    "\n",
    "def vehicleRC_read_data(folder_dir):\n",
    "    \n",
    "    # Defining path to tesseract.exe and the image\n",
    "    path_to_tesseract = r\"C:\\Program Files\\Tesseract-OCR\\tesseract.exe\"\n",
    "    pytesseract.pytesseract.tesseract_cmd = path_to_tesseract\n",
    "    \n",
    "    DL = []\n",
    "    \n",
    "    for images in os.listdir(folder_dir):\n",
    "        if (images.endswith(\".png\") or images.endswith(\".jpg\") or images.endswith(\".jpeg\")):\n",
    "            #print(images)\n",
    "            inputPath = os.path.join(folder_dir, images)\n",
    "            img = Image.open(inputPath)\n",
    "\n",
    "            # Extract text from image\n",
    "            text = pytesseract.image_to_string(img, lang =\"eng\")\n",
    "            text = ftfy.fix_text(text)\n",
    "            text = ftfy.fix_encoding(text)\n",
    "    \n",
    "            # Splitting the lines to sort the text paragraph wise\n",
    "            lines = text.split('\\n')\n",
    "            for lin in lines:\n",
    "                s = lin.strip()\n",
    "                s = s.rstrip()\n",
    "                s = s.lstrip()\n",
    "                DL.append(s)\n",
    "            \n",
    "            data = json.dumps(DL)\n",
    "            \n",
    "            \n",
    "            print(\"{\" + \"\\\"DL\\\"\" + \":\" + data + \"}\")\n",
    "            return (\"{\" + \"\\\"DL\\\"\" + \":\" + data + \"}\")\n",
    "\n",
    "folder_dir = r\"C:\\Users\\VSK\\Downloads\\OCR\\DL\"\n",
    "DL = vehicleRC_read_data(folder_dir)\n",
    "        "
   ]
  },
  {
   "cell_type": "code",
   "execution_count": null,
   "id": "f5d21cf5",
   "metadata": {},
   "outputs": [],
   "source": []
  }
 ],
 "metadata": {
  "kernelspec": {
   "display_name": "Python 3 (ipykernel)",
   "language": "python",
   "name": "python3"
  },
  "language_info": {
   "codemirror_mode": {
    "name": "ipython",
    "version": 3
   },
   "file_extension": ".py",
   "mimetype": "text/x-python",
   "name": "python",
   "nbconvert_exporter": "python",
   "pygments_lexer": "ipython3",
   "version": "3.9.12"
  }
 },
 "nbformat": 4,
 "nbformat_minor": 5
}
